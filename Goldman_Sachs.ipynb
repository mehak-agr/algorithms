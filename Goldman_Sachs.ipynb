{
 "cells": [
  {
   "cell_type": "code",
   "execution_count": 1,
   "metadata": {},
   "outputs": [
    {
     "data": {
      "text/html": [
       "<style>.container { width:100% !important; }</style>"
      ],
      "text/plain": [
       "<IPython.core.display.HTML object>"
      ]
     },
     "metadata": {},
     "output_type": "display_data"
    }
   ],
   "source": [
    "from IPython.core.display import display, HTML\n",
    "display(HTML(\"<style>.container { width:100% !important; }</style>\"))"
   ]
  },
  {
   "cell_type": "markdown",
   "metadata": {},
   "source": [
    "Question 1:\n",
    "A person wants to visit the doctor on alternate days, and since he is forgetful he doesn't remember if he went to the doctor the previous day or not. \n",
    "So he decides that if he starts going on an odd day, he will go on all odd days and similarly for even. The input is a 3 integers, year, month and day. \n",
    "You are supposed to answer how many days does he go to the doctor according to the alternate regime. For eg: if year = 2019, month  = 3 and day = 31. The output would be 1 as he goes on all odd days and the 1st of April is odd so, he goes the next day as well. Hence he only went according to routine on the first day."
   ]
  },
  {
   "cell_type": "markdown",
   "metadata": {},
   "source": [
    "- To be done"
   ]
  },
  {
   "cell_type": "markdown",
   "metadata": {},
   "source": [
    "Question 2:\n",
    "Largest number N which can be reduced to 0 in K steps."
   ]
  },
  {
   "cell_type": "markdown",
   "metadata": {},
   "source": [
    "Idea - K < N < 10 * K"
   ]
  },
  {
   "cell_type": "code",
   "execution_count": 2,
   "metadata": {},
   "outputs": [
    {
     "name": "stdout",
     "output_type": "stream",
     "text": [
      "CPU times: user 1e+03 ns, sys: 0 ns, total: 1e+03 ns\n",
      "Wall time: 4.29 µs\n"
     ]
    },
    {
     "data": {
      "text/plain": [
       "1689"
      ]
     },
     "execution_count": 2,
     "metadata": {},
     "output_type": "execute_result"
    }
   ],
   "source": [
    "%time\n",
    "# Method 1 - O(k * log(k))\n",
    "\n",
    "def digits(n):\n",
    "    if n == 0:\n",
    "        return 1\n",
    "    d = 0\n",
    "    while n > 0:\n",
    "        n = n // 10\n",
    "        d += 1\n",
    "    return d\n",
    "\n",
    "def steps(n):\n",
    "    c = 0\n",
    "    d = digits(n)\n",
    "    while n > 0:\n",
    "        n = n - n // 10 ** (digits(n)-1)\n",
    "        c += 1\n",
    "    return c\n",
    "\n",
    "def work(k):\n",
    "    sm = k\n",
    "    la = 10 * k\n",
    "    \n",
    "    while la > sm:\n",
    "        mid = (sm + la) // 2\n",
    "        msteps = steps(mid)\n",
    "        if msteps > k:\n",
    "            la = mid\n",
    "        else:\n",
    "            if sm == mid:\n",
    "                return mid\n",
    "            else:\n",
    "                sm = mid\n",
    "work(1000)"
   ]
  },
  {
   "cell_type": "markdown",
   "metadata": {},
   "source": [
    "Question 3:\n",
    "Length of longest increasing subsequence in an array"
   ]
  },
  {
   "cell_type": "code",
   "execution_count": 31,
   "metadata": {},
   "outputs": [
    {
     "name": "stdout",
     "output_type": "stream",
     "text": [
      "CPU times: user 2 µs, sys: 0 ns, total: 2 µs\n",
      "Wall time: 3.81 µs\n"
     ]
    },
    {
     "data": {
      "text/plain": [
       "6"
      ]
     },
     "execution_count": 31,
     "metadata": {},
     "output_type": "execute_result"
    }
   ],
   "source": [
    "%time\n",
    "# Method 1 - O(n ** 2)\n",
    "\n",
    "def len_lis(a, cov):\n",
    "    maxl = 0\n",
    "    for key, value in cov.items():\n",
    "        if a >= key:\n",
    "            maxl = max(maxl, value)\n",
    "    return maxl + 1\n",
    "    \n",
    "def work(array):\n",
    "    cov = {}\n",
    "    maxl = 0\n",
    "    for a in array:\n",
    "        cov[a] = len_lis(a, cov)\n",
    "        maxl = max(maxl, cov[a])\n",
    "    return maxl\n",
    "        \n",
    "work([0, 8, 4, 12, 2, 10, 6, 14, 1, 9, 5, 13, 3, 11, 7, 15])"
   ]
  },
  {
   "cell_type": "code",
   "execution_count": 30,
   "metadata": {},
   "outputs": [
    {
     "name": "stdout",
     "output_type": "stream",
     "text": [
      "CPU times: user 2 µs, sys: 1 µs, total: 3 µs\n",
      "Wall time: 4.05 µs\n",
      "[0]\n",
      "[0, 8]\n",
      "[0, 4]\n",
      "[0, 4, 12]\n",
      "[0, 2, 12]\n",
      "[0, 2, 10]\n",
      "[0, 2, 6]\n",
      "[0, 2, 6, 14]\n",
      "[0, 1, 6, 14]\n",
      "[0, 1, 6, 9]\n",
      "[0, 1, 5, 9]\n",
      "[0, 1, 5, 9, 13]\n",
      "[0, 1, 3, 9, 13]\n",
      "[0, 1, 3, 9, 11]\n",
      "[0, 1, 3, 7, 11]\n"
     ]
    },
    {
     "data": {
      "text/plain": [
       "(6, [0, 1, 3, 7, 11, 15])"
      ]
     },
     "execution_count": 30,
     "metadata": {},
     "output_type": "execute_result"
    }
   ],
   "source": [
    "%time\n",
    "# Method 2 - O(n * log(n))\n",
    "\n",
    "def insert(aux, y):\n",
    "    sm = 0\n",
    "    la = len(aux)\n",
    "    \n",
    "    while la > sm:\n",
    "        mid = (sm + la) // 2\n",
    "        if y < aux[mid]:\n",
    "            la = mid\n",
    "        else:\n",
    "            if sm == mid:\n",
    "                aux[la] = y\n",
    "                break\n",
    "            else:\n",
    "                sm = mid\n",
    "    return aux\n",
    "            \n",
    "def work(array):\n",
    "    aux = [array[0]]\n",
    "    l = 1\n",
    "    for y in array[1:]:\n",
    "        print(aux)\n",
    "        if y < aux[0]:\n",
    "            aux = [y] + aux\n",
    "        elif y > aux[-1]:\n",
    "            aux.append(y)\n",
    "            l += 1\n",
    "        else:\n",
    "            aux = insert(aux, y)\n",
    "\n",
    "    return l, aux\n",
    "\n",
    "work([0, 8, 4, 12, 2, 10, 6, 14, 1, 9, 5, 13, 3, 11, 7, 15])"
   ]
  },
  {
   "cell_type": "markdown",
   "metadata": {},
   "source": [
    "Question 4:\n",
    "Minimum number of elements to be deleted to form an almost sorted array"
   ]
  },
  {
   "cell_type": "code",
   "execution_count": null,
   "metadata": {},
   "outputs": [],
   "source": []
  }
 ],
 "metadata": {
  "kernelspec": {
   "display_name": "Python 3",
   "language": "python",
   "name": "python3"
  },
  "language_info": {
   "codemirror_mode": {
    "name": "ipython",
    "version": 3
   },
   "file_extension": ".py",
   "mimetype": "text/x-python",
   "name": "python",
   "nbconvert_exporter": "python",
   "pygments_lexer": "ipython3",
   "version": "3.8.3"
  }
 },
 "nbformat": 4,
 "nbformat_minor": 4
}
