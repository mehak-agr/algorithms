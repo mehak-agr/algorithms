{
 "cells": [
  {
   "cell_type": "code",
   "execution_count": 1,
   "metadata": {},
   "outputs": [
    {
     "data": {
      "text/html": [
       "<style>.container { width:100% !important; }</style>"
      ],
      "text/plain": [
       "<IPython.core.display.HTML object>"
      ]
     },
     "metadata": {},
     "output_type": "display_data"
    }
   ],
   "source": [
    "from IPython.core.display import display, HTML\n",
    "display(HTML(\"<style>.container { width:100% !important; }</style>\"))"
   ]
  },
  {
   "cell_type": "markdown",
   "metadata": {},
   "source": [
    "A person wants to visit the doctor on alternate days, and since he is forgetful he doesn't remember if he went to the doctor the previous day or not. \n",
    "So he decides that if he starts going on an odd day, he will go on all odd days and similarly for even. The input is a 3 integers, year, month and day. \n",
    "You are supposed to answer how many days does he go to the doctor according to the alternate regime. For eg: if year = 2019, month  = 3 and day = 31. The output would be 1 as he goes on all odd days and the 1st of April is odd so, he goes the next day as well. Hence he only went according to routine on the first day."
   ]
  },
  {
   "cell_type": "code",
   "execution_count": 2,
   "metadata": {},
   "outputs": [
    {
     "name": "stdout",
     "output_type": "stream",
     "text": [
      "CPU times: user 2 µs, sys: 1 µs, total: 3 µs\n",
      "Wall time: 5.01 µs\n"
     ]
    }
   ],
   "source": [
    "%time"
   ]
  },
  {
   "cell_type": "markdown",
   "metadata": {},
   "source": [
    "Largest number N which can be reduced to 0 in K steps."
   ]
  },
  {
   "cell_type": "markdown",
   "metadata": {},
   "source": [
    "Idea - K < N < 10 * K"
   ]
  },
  {
   "cell_type": "code",
   "execution_count": 7,
   "metadata": {},
   "outputs": [
    {
     "name": "stdout",
     "output_type": "stream",
     "text": [
      "CPU times: user 2 µs, sys: 1 µs, total: 3 µs\n",
      "Wall time: 4.05 µs\n"
     ]
    },
    {
     "data": {
      "text/plain": [
       "1689"
      ]
     },
     "execution_count": 7,
     "metadata": {},
     "output_type": "execute_result"
    }
   ],
   "source": [
    "%time\n",
    "# Method 1 - O(k * log(k))\n",
    "\n",
    "def digits(n):\n",
    "    if n == 0:\n",
    "        return 1\n",
    "    d = 0\n",
    "    while n > 0:\n",
    "        n = n // 10\n",
    "        d += 1\n",
    "    return d\n",
    "\n",
    "def steps(n):\n",
    "    c = 0\n",
    "    d = digits(n)\n",
    "    while n > 0:\n",
    "        n = n - n // 10 ** (digits(n)-1)\n",
    "        c += 1\n",
    "    return c\n",
    "\n",
    "def work(k):\n",
    "    sm = k\n",
    "    la = 10 * k\n",
    "    \n",
    "    while la > sm:\n",
    "        mid = (sm + la) // 2\n",
    "        msteps = steps(mid)\n",
    "        if msteps > k:\n",
    "            la = mid\n",
    "        else:\n",
    "            if sm == mid:\n",
    "                return mid\n",
    "            else:\n",
    "                sm = mid\n",
    "work(1000)"
   ]
  },
  {
   "cell_type": "markdown",
   "metadata": {},
   "source": [
    "Length of longest increasing subsequence in an array"
   ]
  },
  {
   "cell_type": "code",
   "execution_count": 15,
   "metadata": {},
   "outputs": [
    {
     "data": {
      "text/plain": [
       "5"
      ]
     },
     "execution_count": 15,
     "metadata": {},
     "output_type": "execute_result"
    }
   ],
   "source": [
    "# Method 1 - O(n ** 2)\n",
    "\n",
    "def len_lis(a, cov):\n",
    "    maxl = 0\n",
    "    for key, value in cov.items():\n",
    "        if a >= key:\n",
    "            maxl = max(maxl, value)\n",
    "    return maxl + 1\n",
    "    \n",
    "def work(array):\n",
    "    cov = {}\n",
    "    maxl = 0\n",
    "    for a in array:\n",
    "        cov[a] = len_lis(a, cov)\n",
    "        maxl = max(maxl, cov[a])\n",
    "    return maxl\n",
    "        \n",
    "work([10, 22, 9, 33, 21, 50, 41, 60])"
   ]
  },
  {
   "cell_type": "code",
   "execution_count": null,
   "metadata": {},
   "outputs": [],
   "source": [
    "# Method 2 - O(n * log(n))\n",
    "\n"
   ]
  }
 ],
 "metadata": {
  "kernelspec": {
   "display_name": "Python 3",
   "language": "python",
   "name": "python3"
  },
  "language_info": {
   "codemirror_mode": {
    "name": "ipython",
    "version": 3
   },
   "file_extension": ".py",
   "mimetype": "text/x-python",
   "name": "python",
   "nbconvert_exporter": "python",
   "pygments_lexer": "ipython3",
   "version": "3.8.3"
  }
 },
 "nbformat": 4,
 "nbformat_minor": 4
}
